{
 "cells": [
  {
   "cell_type": "code",
   "execution_count": 1,
   "id": "aa7f557f",
   "metadata": {},
   "outputs": [],
   "source": [
    "# Multiple regression is like linear regression, but with more than one independe\n",
    "# meaning that we try to predict a value based on two or more variables.\n",
    "#import libraries\n",
    "import pandas as pd\n",
    "import numpy as np\n",
    "from sklearn import linear_model\n",
    "from sklearn.model_selection import train_test_split"
   ]
  },
  {
   "cell_type": "code",
   "execution_count": 2,
   "id": "802e4a8d",
   "metadata": {},
   "outputs": [
    {
     "name": "stdout",
     "output_type": "stream",
     "text": [
      "           Car       Model  Volume  Weight  CO2\n",
      "0       Toyoty        Aygo    1000     790   99\n",
      "1   Mitsubishi  Space Star    1200    1160   95\n",
      "2        Skoda      Citigo    1000     929   95\n",
      "3         Fiat         500     900     865   90\n",
      "4         Mini      Cooper    1500    1140  105\n",
      "5           VW         Up!    1000     929  105\n",
      "6        Skoda       Fabia    1400    1109   90\n",
      "7     Mercedes     A-Class    1500    1365   92\n",
      "8         Ford      Fiesta    1500    1112   98\n",
      "9         Audi          A1    1600    1150   99\n",
      "10     Hyundai         I20    1100     980   99\n",
      "11      Suzuki       Swift    1300     990  101\n",
      "12        Ford      Fiesta    1000    1112   99\n",
      "13       Honda       Civic    1600    1252   94\n",
      "14      Hundai         I30    1600    1326   97\n",
      "15        Opel       Astra    1600    1330   97\n",
      "16         BMW           1    1600    1365   99\n",
      "17       Mazda           3    2200    1280  104\n",
      "18       Skoda       Rapid    1600    1119  104\n",
      "19        Ford       Focus    2000    1328  105\n",
      "20        Ford      Mondeo    1600    1584   94\n",
      "21        Opel    Insignia    2000    1428   99\n",
      "22    Mercedes     C-Class    2100    1365   99\n",
      "23       Skoda     Octavia    1600    1415   99\n",
      "24       Volvo         S60    2000    1415   99\n",
      "25    Mercedes         CLA    1500    1465  102\n",
      "26        Audi          A4    2000    1490  104\n",
      "27        Audi          A6    2000    1725  114\n",
      "28       Volvo         V70    1600    1523  109\n",
      "29         BMW           5    2000    1705  114\n",
      "30    Mercedes     E-Class    2100    1605  115\n",
      "31       Volvo        XC70    2000    1746  117\n",
      "32        Ford       B-Max    1600    1235  104\n",
      "33         BMW         216    1600    1390  108\n",
      "34        Opel      Zafira    1600    1405  109\n",
      "35    Mercedes         SLK    2500    1395  120\n",
      "    Weight  Volume\n",
      "0      790    1000\n",
      "1     1160    1200\n",
      "2      929    1000\n",
      "3      865     900\n",
      "4     1140    1500\n",
      "5      929    1000\n",
      "6     1109    1400\n",
      "7     1365    1500\n",
      "8     1112    1500\n",
      "9     1150    1600\n",
      "10     980    1100\n",
      "11     990    1300\n",
      "12    1112    1000\n",
      "13    1252    1600\n",
      "14    1326    1600\n",
      "15    1330    1600\n",
      "16    1365    1600\n",
      "17    1280    2200\n",
      "18    1119    1600\n",
      "19    1328    2000\n",
      "20    1584    1600\n",
      "21    1428    2000\n",
      "22    1365    2100\n",
      "23    1415    1600\n",
      "24    1415    2000\n",
      "25    1465    1500\n",
      "26    1490    2000\n",
      "27    1725    2000\n",
      "28    1523    1600\n",
      "29    1705    2000\n",
      "30    1605    2100\n",
      "31    1746    2000\n",
      "32    1235    1600\n",
      "33    1390    1600\n",
      "34    1405    1600\n",
      "35    1395    2500\n",
      "0      99\n",
      "1      95\n",
      "2      95\n",
      "3      90\n",
      "4     105\n",
      "5     105\n",
      "6      90\n",
      "7      92\n",
      "8      98\n",
      "9      99\n",
      "10     99\n",
      "11    101\n",
      "12     99\n",
      "13     94\n",
      "14     97\n",
      "15     97\n",
      "16     99\n",
      "17    104\n",
      "18    104\n",
      "19    105\n",
      "20     94\n",
      "21     99\n",
      "22     99\n",
      "23     99\n",
      "24     99\n",
      "25    102\n",
      "26    104\n",
      "27    114\n",
      "28    109\n",
      "29    114\n",
      "30    115\n",
      "31    117\n",
      "32    104\n",
      "33    108\n",
      "34    109\n",
      "35    120\n",
      "Name: CO2, dtype: int64\n"
     ]
    }
   ],
   "source": [
    "# Reading the dataset\n",
    "df = pd.read_csv(\"cars.csv\")\n",
    "X = df[['Weight', 'Volume']] #independent variables\n",
    "y = df['CO2'] #dependent variable\n",
    "print (df)\n",
    "print (X)\n",
    "print (y)"
   ]
  },
  {
   "cell_type": "code",
   "execution_count": 3,
   "id": "d437927a",
   "metadata": {},
   "outputs": [
    {
     "data": {
      "text/plain": [
       "Index(['Car', 'Model', 'Volume', 'Weight', 'CO2'], dtype='object')"
      ]
     },
     "execution_count": 3,
     "metadata": {},
     "output_type": "execute_result"
    }
   ],
   "source": [
    "# all column name\n",
    "df.columns"
   ]
  },
  {
   "cell_type": "code",
   "execution_count": 5,
   "id": "a55383fd",
   "metadata": {},
   "outputs": [
    {
     "name": "stdout",
     "output_type": "stream",
     "text": [
      "    Weight  Volume\n",
      "29    1705    2000\n",
      "27    1725    2000\n",
      "35    1395    2500\n",
      "33    1390    1600\n",
      "28    1523    1600\n",
      "32    1235    1600\n",
      "8     1112    1500\n",
      "13    1252    1600\n",
      "5      929    1000\n",
      "17    1280    2200\n",
      "14    1326    1600\n",
      "7     1365    1500\n",
      "26    1490    2000\n",
      "1     1160    1200\n",
      "12    1112    1000\n",
      "25    1465    1500\n",
      "24    1415    2000\n",
      "6     1109    1400\n",
      "23    1415    1600\n",
      "4     1140    1500\n",
      "18    1119    1600\n",
      "21    1428    2000\n",
      "19    1328    2000\n",
      "9     1150    1600\n",
      "34    1405    1600\n",
      "3      865     900\n",
      "0      790    1000\n",
      "    Weight  Volume\n",
      "31    1746    2000\n",
      "20    1584    1600\n",
      "16    1365    1600\n",
      "30    1605    2100\n",
      "22    1365    2100\n",
      "15    1330    1600\n",
      "10     980    1100\n",
      "2      929    1000\n",
      "11     990    1300\n",
      "29    114\n",
      "27    114\n",
      "35    120\n",
      "33    108\n",
      "28    109\n",
      "32    104\n",
      "8      98\n",
      "13     94\n",
      "5     105\n",
      "17    104\n",
      "14     97\n",
      "7      92\n",
      "26    104\n",
      "1      95\n",
      "12     99\n",
      "25    102\n",
      "24     99\n",
      "6      90\n",
      "23     99\n",
      "4     105\n",
      "18    104\n",
      "21     99\n",
      "19    105\n",
      "9      99\n",
      "34    109\n",
      "3      90\n",
      "0      99\n",
      "Name: CO2, dtype: int64\n",
      "31    117\n",
      "20     94\n",
      "16     99\n",
      "30    115\n",
      "22     99\n",
      "15     97\n",
      "10     99\n",
      "2      95\n",
      "11    101\n",
      "Name: CO2, dtype: int64\n"
     ]
    }
   ],
   "source": [
    "# split data into train and test\n",
    "X_train, X_test, y_train, y_test = train_test_split(X, y, test_size = 0.25, random_state=0)\n",
    "print (X_train)\n",
    "print (X_test)\n",
    "print (y_train)\n",
    "print (y_test)"
   ]
  },
  {
   "cell_type": "code",
   "execution_count": 6,
   "id": "d60a55ee",
   "metadata": {},
   "outputs": [],
   "source": [
    "# Builiding the model\n",
    "from sklearn.linear_model import LinearRegression\n",
    "# instantiate or object\n",
    "model = LinearRegression()\n",
    "# fit\n",
    "model.fit(X_train, y_train) #Training data set\n",
    "# predict\n",
    "y_pred = model.predict(X_test) # Testing data set"
   ]
  },
  {
   "cell_type": "code",
   "execution_count": 7,
   "id": "1d661cc8",
   "metadata": {},
   "outputs": [
    {
     "name": "stdout",
     "output_type": "stream",
     "text": [
      "0.38868909980537814\n"
     ]
    }
   ],
   "source": [
    "# Model Evaluation\n",
    "# It can be done by R2 Score\n",
    "# Now comes the moment of truth — how well does the model perform?\n",
    "# There are many ways to evaluate model performance but in classical statistics,\n",
    "# the performance of linear regression models is evaluated with R2 — which gives\n",
    "# and the higher the R2 the better the model.\n",
    "from sklearn.metrics import r2_score\n",
    "# model evaluation\n",
    "score = r2_score(y_test, y_pred)\n",
    "print(score)# score"
   ]
  },
  {
   "cell_type": "code",
   "execution_count": 9,
   "id": "fd5aa9ee",
   "metadata": {},
   "outputs": [
    {
     "name": "stdout",
     "output_type": "stream",
     "text": [
      "[117.45664537]\n"
     ]
    },
    {
     "name": "stderr",
     "output_type": "stream",
     "text": [
      "C:\\Users\\lenovo\\AppData\\Local\\Programs\\Python\\Python310\\lib\\site-packages\\sklearn\\base.py:450: UserWarning: X does not have valid feature names, but LinearRegression was fitted with feature names\n",
      "  warnings.warn(\n"
     ]
    }
   ],
   "source": [
    "#predict the CO2 emission of a car where the weight is 2300kg, and the volume is\n",
    "predictedCO2 = model.predict([[3000, 1800]]) #Putting new value to get the predic\n",
    "print(predictedCO2)"
   ]
  },
  {
   "cell_type": "code",
   "execution_count": null,
   "id": "ba4108f6",
   "metadata": {},
   "outputs": [],
   "source": []
  }
 ],
 "metadata": {
  "kernelspec": {
   "display_name": "Python 3 (ipykernel)",
   "language": "python",
   "name": "python3"
  },
  "language_info": {
   "codemirror_mode": {
    "name": "ipython",
    "version": 3
   },
   "file_extension": ".py",
   "mimetype": "text/x-python",
   "name": "python",
   "nbconvert_exporter": "python",
   "pygments_lexer": "ipython3",
   "version": "3.10.7"
  }
 },
 "nbformat": 4,
 "nbformat_minor": 5
}
